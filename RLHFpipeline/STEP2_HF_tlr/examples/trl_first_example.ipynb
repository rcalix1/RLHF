{
 "cells": [
  {
   "cell_type": "markdown",
   "id": "e3f5d046",
   "metadata": {},
   "source": [
    "\n",
    "## TRL - RLHF first example\n"
   ]
  },
  {
   "cell_type": "code",
   "execution_count": 1,
   "id": "cd3a1e43",
   "metadata": {},
   "outputs": [],
   "source": [
    "\n",
    "## Python >= 3.8\n",
    "\n",
    "## !pip install transformers\n",
    "## !pip install accelerate\n",
    "## !pip install twine\n",
    "## !pip install datasets\n",
    "## !pip install tyro\n"
   ]
  },
  {
   "cell_type": "code",
   "execution_count": 2,
   "id": "67c40b93",
   "metadata": {},
   "outputs": [],
   "source": [
    "\n",
    "import torch\n",
    "from transformers import GPT2Tokenizer\n",
    "\n",
    "from trl import AutoModelForCausalLMWithValueHead, PPOConfig, PPOTrainer\n"
   ]
  },
  {
   "cell_type": "markdown",
   "id": "13b22d6f",
   "metadata": {},
   "source": [
    "\n",
    "## 1. load a pretrained model\n"
   ]
  },
  {
   "cell_type": "code",
   "execution_count": 4,
   "id": "6986311b",
   "metadata": {},
   "outputs": [],
   "source": [
    "\n",
    "\n",
    "model     = AutoModelForCausalLMWithValueHead.from_pretrained(\"gpt2\")\n",
    "model_ref = AutoModelForCausalLMWithValueHead.from_pretrained(\"gpt2\")\n",
    "\n",
    "tokenizer           = GPT2Tokenizer.from_pretrained(\"gpt2\")\n",
    "tokenizer.pad_token = tokenizer.eos_token\n",
    "\n"
   ]
  },
  {
   "cell_type": "markdown",
   "id": "130330be",
   "metadata": {},
   "source": [
    "\n",
    "## 2. initialize trainer\n"
   ]
  },
  {
   "cell_type": "code",
   "execution_count": 6,
   "id": "bdc3a102",
   "metadata": {},
   "outputs": [],
   "source": [
    "\n",
    "\n",
    "ppo_config  = {\"batch_size\": 1}\n",
    "config      = PPOConfig(**ppo_config)\n",
    "\n",
    "ppo_trainer = PPOTrainer(\n",
    "                     config, \n",
    "                     model, \n",
    "                     model_ref, \n",
    "                     tokenizer\n",
    ")\n",
    "\n"
   ]
  },
  {
   "cell_type": "markdown",
   "id": "fbc99994",
   "metadata": {},
   "source": [
    "\n",
    "## 3. encode a query\n"
   ]
  },
  {
   "cell_type": "code",
   "execution_count": 7,
   "id": "48b27ee8",
   "metadata": {},
   "outputs": [],
   "source": [
    "\n",
    "\n",
    "query_txt    = \"This morning I went to the \"\n",
    "\n",
    "query_tensor = tokenizer.encode(\n",
    "                      query_txt, \n",
    "                      return_tensors=\"pt\"\n",
    ").to( model.pretrained_model.device )\n",
    "\n"
   ]
  },
  {
   "cell_type": "markdown",
   "id": "ea9dd22b",
   "metadata": {},
   "source": [
    "\n",
    "## 4. generate model response\n"
   ]
  },
  {
   "cell_type": "code",
   "execution_count": 8,
   "id": "705412ec",
   "metadata": {},
   "outputs": [],
   "source": [
    "\n",
    "\n",
    "generation_kwargs = {\n",
    "    \"min_length\":  -1,\n",
    "    \"top_k\":      0.0,\n",
    "    \"top_p\":      1.0,\n",
    "    \"do_sample\": True,\n",
    "    \"pad_token_id\": tokenizer.eos_token_id,\n",
    "    \"max_new_tokens\": 20,\n",
    "}\n"
   ]
  },
  {
   "cell_type": "code",
   "execution_count": 9,
   "id": "3c93f170",
   "metadata": {},
   "outputs": [],
   "source": [
    "\n",
    "response_tensor = ppo_trainer.generate(\n",
    "                     [item for item in query_tensor], \n",
    "                     return_prompt=False, \n",
    "                     **generation_kwargs\n",
    ")\n",
    "\n",
    "response_txt    = tokenizer.decode( response_tensor[0] )\n",
    "\n"
   ]
  },
  {
   "cell_type": "code",
   "execution_count": 10,
   "id": "18735080-5dc7-4bbd-9886-be19ccdbea08",
   "metadata": {},
   "outputs": [
    {
     "data": {
      "text/plain": [
       "'\\xa0The Mount administered service on the 100-meter Passositime which has been providing a hugely effect'"
      ]
     },
     "execution_count": 10,
     "metadata": {},
     "output_type": "execute_result"
    }
   ],
   "source": [
    "\n",
    "response_txt\n"
   ]
  },
  {
   "cell_type": "markdown",
   "id": "3900ff10",
   "metadata": {},
   "source": [
    "\n",
    "## 5. define a reward for response\n",
    "\n",
    "* this could be any reward such as human feedback or output from another model)\n"
   ]
  },
  {
   "cell_type": "code",
   "execution_count": 11,
   "id": "f09ac9db",
   "metadata": {},
   "outputs": [
    {
     "data": {
      "text/plain": [
       "[tensor(1., device='mps:0')]"
      ]
     },
     "execution_count": 11,
     "metadata": {},
     "output_type": "execute_result"
    }
   ],
   "source": [
    "\n",
    "\n",
    "reward = [ torch.tensor(1.0, device=model.pretrained_model.device) ]\n",
    "\n",
    "reward\n",
    "\n"
   ]
  },
  {
   "cell_type": "markdown",
   "id": "edee84d3",
   "metadata": {},
   "source": [
    "\n",
    "## 6. train model with ppo\n"
   ]
  },
  {
   "cell_type": "code",
   "execution_count": 12,
   "id": "80f0e7fd",
   "metadata": {},
   "outputs": [],
   "source": [
    "\n",
    "train_stats = ppo_trainer.step(\n",
    "                    [ query_tensor[0] ], \n",
    "                    [ response_tensor[0] ], \n",
    "                    reward\n",
    ")\n"
   ]
  },
  {
   "cell_type": "code",
   "execution_count": 13,
   "id": "ef6d4ac1",
   "metadata": {},
   "outputs": [
    {
     "data": {
      "text/plain": [
       "{'objective/kl': 0.0,\n",
       " 'objective/kl_dist': 0.0,\n",
       " 'objective/logprobs': array([[ -8.146125  ,  -2.2490737 ,  -2.6608405 ,  -0.63042766,\n",
       "          -1.6609763 ,  -9.227745  ,  -1.4445881 ,  -6.318651  ,\n",
       "          -8.213805  , -14.99595   ,  -5.460775  ,  -3.3287663 ,\n",
       "          -1.4201152 ,  -7.8896565 ,  -2.7351935 ,  -2.4551308 ,\n",
       "          -8.23317   , -11.903272  ,  -6.710974  ,  -4.9565077 ,\n",
       "          -3.4219246 ,  -1.2996787 ,  -6.0018473 ,  -2.785101  ,\n",
       "          -9.123416  ,  -9.531232  ]], dtype=float32),\n",
       " 'objective/ref_logprobs': array([[ -8.146125  ,  -2.2490737 ,  -2.6608405 ,  -0.63042766,\n",
       "          -1.6609763 ,  -9.227745  ,  -1.4445881 ,  -6.318651  ,\n",
       "          -8.213805  , -14.99595   ,  -5.460775  ,  -3.3287663 ,\n",
       "          -1.4201152 ,  -7.8896565 ,  -2.7351935 ,  -2.4551308 ,\n",
       "          -8.23317   , -11.903272  ,  -6.710974  ,  -4.9565077 ,\n",
       "          -3.4219246 ,  -1.2996787 ,  -6.0018473 ,  -2.785101  ,\n",
       "          -9.123416  ,  -9.531232  ]], dtype=float32),\n",
       " 'objective/kl_coef': 0.2,\n",
       " 'objective/entropy': 118.22975158691406,\n",
       " 'ppo/mean_non_score_reward': 0.0,\n",
       " 'ppo/mean_scores': 1.0,\n",
       " 'ppo/std_scores': nan,\n",
       " 'tokens/queries_len_mean': 7.0,\n",
       " 'tokens/queries_len_std': nan,\n",
       " 'tokens/queries_dist': 7.0,\n",
       " 'tokens/responses_len_mean': 20.0,\n",
       " 'tokens/responses_len_std': nan,\n",
       " 'tokens/responses_dist': 20.0,\n",
       " 'ppo/loss/policy': -0.10441985726356506,\n",
       " 'ppo/loss/value': 23.445419311523438,\n",
       " 'ppo/loss/total': 2.2401223182678223,\n",
       " 'ppo/policy/entropy': 5.5978288650512695,\n",
       " 'ppo/policy/approxkl': 0.12944820523262024,\n",
       " 'ppo/policy/policykl': 0.0329713374376297,\n",
       " 'ppo/policy/clipfrac': 0.44999998807907104,\n",
       " 'ppo/policy/advantages': array([-2.6054330e+00, -2.6591265e+00, -2.7156460e+00, -2.7751400e+00,\n",
       "        -2.8377655e+00, -2.9036870e+00, -1.0014526e+00, -1.3602434e+00,\n",
       "        -1.2332070e+00, -1.2209170e+00, -1.6675028e-01, -1.4899127e-01,\n",
       "        -4.9264130e-01, -7.3221907e-02, -8.4159523e-01, -1.1499087e+00,\n",
       "        -1.0742256e-03, -2.7218128e-02, -2.1324721e-01,  2.1935616e-01,\n",
       "         8.3732891e-01,  8.7009108e-01,  1.3268957e+00,  1.1961740e+00,\n",
       "         1.6883329e+00,  1.7922879e+00, -2.6054330e+00, -2.6591265e+00,\n",
       "        -2.7156460e+00, -2.7751400e+00, -2.8377655e+00, -2.9036870e+00,\n",
       "        -1.0014526e+00, -1.3602434e+00, -1.2332070e+00, -1.2209170e+00,\n",
       "        -1.6675028e-01, -1.4899127e-01, -4.9264130e-01, -7.3221907e-02,\n",
       "        -8.4159523e-01, -1.1499087e+00, -1.0742256e-03, -2.7218128e-02,\n",
       "        -2.1324721e-01,  2.1935616e-01,  8.3732891e-01,  8.7009108e-01,\n",
       "         1.3268957e+00,  1.1961740e+00,  1.6883329e+00,  1.7922879e+00,\n",
       "        -2.6054330e+00, -2.6591265e+00, -2.7156460e+00, -2.7751400e+00,\n",
       "        -2.8377655e+00, -2.9036870e+00, -1.0014526e+00, -1.3602434e+00,\n",
       "        -1.2332070e+00, -1.2209170e+00, -1.6675028e-01, -1.4899127e-01,\n",
       "        -4.9264130e-01, -7.3221907e-02, -8.4159523e-01, -1.1499087e+00,\n",
       "        -1.0742256e-03, -2.7218128e-02, -2.1324721e-01,  2.1935616e-01,\n",
       "         8.3732891e-01,  8.7009108e-01,  1.3268957e+00,  1.1961740e+00,\n",
       "         1.6883329e+00,  1.7922879e+00, -2.6054330e+00, -2.6591265e+00,\n",
       "        -2.7156460e+00, -2.7751400e+00, -2.8377655e+00, -2.9036870e+00,\n",
       "        -1.0014526e+00, -1.3602434e+00, -1.2332070e+00, -1.2209170e+00,\n",
       "        -1.6675028e-01, -1.4899127e-01, -4.9264130e-01, -7.3221907e-02,\n",
       "        -8.4159523e-01, -1.1499087e+00, -1.0742256e-03, -2.7218128e-02,\n",
       "        -2.1324721e-01,  2.1935616e-01,  8.3732891e-01,  8.7009108e-01,\n",
       "         1.3268957e+00,  1.1961740e+00,  1.6883329e+00,  1.7922879e+00],\n",
       "       dtype=float32),\n",
       " 'ppo/policy/advantages_mean': -7.450580596923828e-08,\n",
       " 'ppo/policy/ratio': array([1.        , 1.        , 1.        , 1.        , 1.        ,\n",
       "        1.        , 1.        , 1.        , 1.        , 1.        ,\n",
       "        1.        , 1.        , 1.        , 1.        , 1.        ,\n",
       "        1.        , 1.        , 1.        , 1.        , 1.        ,\n",
       "        1.        , 1.        , 1.        , 1.        , 1.        ,\n",
       "        1.        , 0.99296284, 1.0044994 , 0.9916631 , 1.0116918 ,\n",
       "        0.989326  , 1.0073452 , 0.72759545, 0.9179456 , 0.838751  ,\n",
       "        0.49617302, 0.7428332 , 0.9138005 , 1.0251063 , 1.021691  ,\n",
       "        0.9228239 , 0.5792816 , 1.0618582 , 1.6963074 , 0.55563897,\n",
       "        0.96915185, 1.2170966 , 1.0371255 , 1.6873367 , 1.0620638 ,\n",
       "        1.4685513 , 2.1296823 , 0.98968613, 1.0560125 , 0.9944471 ,\n",
       "        1.0089867 , 0.96060145, 0.99620205, 0.5830445 , 0.69243664,\n",
       "        0.6055949 , 0.34621584, 0.71563345, 0.86211634, 0.9881538 ,\n",
       "        0.9738598 , 0.7282347 , 0.42972726, 1.05908   , 1.9557848 ,\n",
       "        0.41712803, 1.0517194 , 1.3008661 , 1.1657114 , 2.083552  ,\n",
       "        1.2513313 , 1.9596702 , 3.68007   , 0.98953605, 1.0965126 ,\n",
       "        0.9914893 , 1.0062084 , 0.9340146 , 0.98491997, 0.486613  ,\n",
       "        0.55542624, 0.47606996, 0.26628354, 0.70143557, 0.8174732 ,\n",
       "        0.9399278 , 0.9147005 , 0.5940222 , 0.33514822, 1.0603211 ,\n",
       "        2.0010426 , 0.3481815 , 1.1836579 , 1.3510351 , 1.3541    ,\n",
       "        2.3775005 , 1.3954116 , 2.4548943 , 5.5267053 ], dtype=float32),\n",
       " 'ppo/returns/mean': -2.7712950706481934,\n",
       " 'ppo/returns/var': 3.218082904815674,\n",
       " 'ppo/val/vpred': -8.239078521728516,\n",
       " 'ppo/val/error': 42.63404846191406,\n",
       " 'ppo/val/clipfrac': 0.7124999761581421,\n",
       " 'ppo/val/mean': -8.71245002746582,\n",
       " 'ppo/val/var': 4.688593864440918,\n",
       " 'ppo/val/var_explained': -12.248275756835938,\n",
       " 'ppo/learning_rate': 1e-05,\n",
       " 'time/ppo/forward_pass': 2.805161952972412,\n",
       " 'time/ppo/compute_rewards': 0.7427129745483398,\n",
       " 'time/ppo/compute_advantages': 1.4852640628814697,\n",
       " 'time/ppo/optimize_step': 12.26899003982544,\n",
       " 'time/ppo/calc_stats': 0.9082810878753662,\n",
       " 'time/ppo/total': 18.210664987564087}"
      ]
     },
     "execution_count": 13,
     "metadata": {},
     "output_type": "execute_result"
    }
   ],
   "source": [
    "\n",
    "train_stats\n"
   ]
  },
  {
   "cell_type": "code",
   "execution_count": null,
   "id": "50645802",
   "metadata": {},
   "outputs": [],
   "source": []
  },
  {
   "cell_type": "code",
   "execution_count": null,
   "id": "2258379f",
   "metadata": {},
   "outputs": [],
   "source": []
  },
  {
   "cell_type": "code",
   "execution_count": null,
   "id": "82cadb58",
   "metadata": {},
   "outputs": [],
   "source": []
  },
  {
   "cell_type": "code",
   "execution_count": null,
   "id": "15cdab5b",
   "metadata": {},
   "outputs": [],
   "source": []
  },
  {
   "cell_type": "code",
   "execution_count": null,
   "id": "6fc6bf42",
   "metadata": {},
   "outputs": [],
   "source": []
  },
  {
   "cell_type": "code",
   "execution_count": null,
   "id": "50252b99",
   "metadata": {},
   "outputs": [],
   "source": []
  },
  {
   "cell_type": "code",
   "execution_count": null,
   "id": "6f95ed47",
   "metadata": {},
   "outputs": [],
   "source": []
  },
  {
   "cell_type": "code",
   "execution_count": null,
   "id": "a5c3b922",
   "metadata": {},
   "outputs": [],
   "source": []
  },
  {
   "cell_type": "code",
   "execution_count": null,
   "id": "bc03cb2b",
   "metadata": {},
   "outputs": [],
   "source": []
  },
  {
   "cell_type": "code",
   "execution_count": null,
   "id": "4518fa56",
   "metadata": {},
   "outputs": [],
   "source": []
  },
  {
   "cell_type": "code",
   "execution_count": null,
   "id": "30023c54",
   "metadata": {},
   "outputs": [],
   "source": []
  },
  {
   "cell_type": "code",
   "execution_count": null,
   "id": "3240983c",
   "metadata": {},
   "outputs": [],
   "source": []
  },
  {
   "cell_type": "code",
   "execution_count": null,
   "id": "0e93e2eb",
   "metadata": {},
   "outputs": [],
   "source": []
  },
  {
   "cell_type": "code",
   "execution_count": null,
   "id": "b5a0294d",
   "metadata": {},
   "outputs": [],
   "source": []
  },
  {
   "cell_type": "code",
   "execution_count": null,
   "id": "79ae2c73",
   "metadata": {},
   "outputs": [],
   "source": []
  },
  {
   "cell_type": "code",
   "execution_count": null,
   "id": "48cdc2c6",
   "metadata": {},
   "outputs": [],
   "source": []
  },
  {
   "cell_type": "code",
   "execution_count": null,
   "id": "0c09fe61",
   "metadata": {},
   "outputs": [],
   "source": []
  },
  {
   "cell_type": "code",
   "execution_count": null,
   "id": "7d535b60",
   "metadata": {},
   "outputs": [],
   "source": []
  },
  {
   "cell_type": "code",
   "execution_count": null,
   "id": "5da41a96",
   "metadata": {},
   "outputs": [],
   "source": []
  },
  {
   "cell_type": "code",
   "execution_count": null,
   "id": "08a2ea4f",
   "metadata": {},
   "outputs": [],
   "source": []
  }
 ],
 "metadata": {
  "kernelspec": {
   "display_name": "Python 3 (ipykernel)",
   "language": "python",
   "name": "python3"
  },
  "language_info": {
   "codemirror_mode": {
    "name": "ipython",
    "version": 3
   },
   "file_extension": ".py",
   "mimetype": "text/x-python",
   "name": "python",
   "nbconvert_exporter": "python",
   "pygments_lexer": "ipython3",
   "version": "3.8.18"
  }
 },
 "nbformat": 4,
 "nbformat_minor": 5
}
